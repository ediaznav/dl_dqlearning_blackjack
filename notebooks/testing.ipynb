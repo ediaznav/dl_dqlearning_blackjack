{
 "cells": [
  {
   "cell_type": "markdown",
   "metadata": {},
   "source": [
    "# Agent training "
   ]
  },
  {
   "cell_type": "markdown",
   "metadata": {},
   "source": []
  },
  {
   "cell_type": "code",
   "execution_count": null,
   "metadata": {},
   "outputs": [],
   "source": [
    "import os\n",
    "import torch\n",
    "import numpy as np\n",
    "import pandas as pd\n",
    "import matplotlib.pyplot as plt\n",
    "from datetime import datetime\n",
    "\n",
    "from src.envs.blackjack_env import BlackjackMultiPlayerEnv\n",
    "from src.agents.dqn_agent import QNetwork\n",
    "#from blackjack_ui import BlackjackUI"
   ]
  },
  {
   "cell_type": "code",
   "execution_count": null,
   "metadata": {},
   "outputs": [],
   "source": []
  },
  {
   "cell_type": "code",
   "execution_count": null,
   "metadata": {},
   "outputs": [],
   "source": [
    "# === EVALUATION CONFIG ===\n",
    "MODEL_PATH = \"models/q_network.pth\"\n",
    "N_EPISODES = 1000\n",
    "RENDER = False\n",
    "INITIAL_BANKROLL = 100\n",
    "\n",
    "# === Cargar entorno y red ===\n",
    "env = BlackjackMultiPlayerEnv(render_mode=\"human\", initial_bankroll=INITIAL_BANKROLL)\n",
    "ui = BlackjackUI() if RENDER else None\n",
    "\n",
    "state_dim = 3\n",
    "action_dim = 4\n",
    "\n",
    "policy_net = QNetwork(state_dim, action_dim)\n",
    "policy_net.load_state_dict(torch.load(MODEL_PATH))\n",
    "policy_net.eval()"
   ]
  },
  {
   "cell_type": "code",
   "execution_count": 2,
   "metadata": {},
   "outputs": [
    {
     "ename": "NameError",
     "evalue": "name 'INITIAL_BANKROLL' is not defined",
     "output_type": "error",
     "traceback": [
      "\u001b[0;31m---------------------------------------------------------------------------\u001b[0m",
      "\u001b[0;31mNameError\u001b[0m                                 Traceback (most recent call last)",
      "Cell \u001b[0;32mIn[2], line 2\u001b[0m\n\u001b[1;32m      1\u001b[0m \u001b[38;5;66;03m# === Cargar entorno y red ===\u001b[39;00m\n\u001b[0;32m----> 2\u001b[0m env \u001b[38;5;241m=\u001b[39m BlackjackMultiPlayerEnv(render_mode\u001b[38;5;241m=\u001b[39m\u001b[38;5;124m\"\u001b[39m\u001b[38;5;124mhuman\u001b[39m\u001b[38;5;124m\"\u001b[39m, initial_bankroll\u001b[38;5;241m=\u001b[39m\u001b[43mINITIAL_BANKROLL\u001b[49m)\n\u001b[1;32m      3\u001b[0m ui \u001b[38;5;241m=\u001b[39m BlackjackUI() \u001b[38;5;28;01mif\u001b[39;00m RENDER \u001b[38;5;28;01melse\u001b[39;00m \u001b[38;5;28;01mNone\u001b[39;00m\n\u001b[1;32m      5\u001b[0m state_dim \u001b[38;5;241m=\u001b[39m \u001b[38;5;241m3\u001b[39m\n",
      "\u001b[0;31mNameError\u001b[0m: name 'INITIAL_BANKROLL' is not defined"
     ]
    }
   ],
   "source": [
    "\n",
    "\n",
    "# === Métricas acumuladas ===\n",
    "results = {\"win\": 0, \"loss\": 0, \"draw\": 0, \"surrender\": 0}\n",
    "total_rewards = []\n",
    "final_bankrolls = []\n",
    "\n",
    "def interpret_result(player_val, dealer_val, reward):\n",
    "    if reward == -0.5:\n",
    "        return \"surrender\"\n",
    "    elif player_val > 21:\n",
    "        return \"loss\"\n",
    "    elif dealer_val > 21:\n",
    "        return \"win\"\n",
    "    elif reward == 1:\n",
    "        return \"win\"\n",
    "    elif reward == 0:\n",
    "        return \"draw\"\n",
    "    elif reward == -1:\n",
    "        return \"loss\"\n",
    "    else:\n",
    "        return \"unknown\"\n",
    "\n",
    "# === Evaluación ===\n",
    "for episode in range(N_EPISODES):\n",
    "    state, _ = env.reset()\n",
    "    done = False\n",
    "    total_reward = 0\n",
    "\n",
    "    while not done:\n",
    "        state_tensor = torch.FloatTensor(state).unsqueeze(0)\n",
    "        with torch.no_grad():\n",
    "            action = torch.argmax(policy_net(state_tensor)).item()\n",
    "\n",
    "        next_state, reward, done, _, _ = env.step(action)\n",
    "        state = next_state\n",
    "        total_reward += reward\n",
    "\n",
    "        if RENDER:\n",
    "            ui.render(\n",
    "                dealer_hand=env.dealer,\n",
    "                player_hand=env.player,\n",
    "                bankroll=env.bankroll,\n",
    "                bet=env.current_bet,\n",
    "                info_text=f\"Episode {episode + 1}\"\n",
    "            )\n",
    "\n",
    "    # Resultado\n",
    "    player_val = sum(env.player) + 10 if (1 in env.player and sum(env.player) + 10 <= 21) else sum(env.player)\n",
    "    dealer_val = sum(env.dealer) + 10 if (1 in env.dealer and sum(env.dealer) + 10 <= 21) else sum(env.dealer)\n",
    "    result = interpret_result(player_val, dealer_val, reward)\n",
    "    results[result] += 1\n",
    "    total_rewards.append(total_reward)\n",
    "    final_bankrolls.append(env.bankroll)\n",
    "\n",
    "# === Resumen ===\n",
    "print(\"\\n EVALUACIÓN FINAL\")\n",
    "print(f\"Episodios evaluados: {N_EPISODES}\")\n",
    "for k, v in results.items():\n",
    "    print(f\"{k.capitalize()}: {v} ({v / N_EPISODES:.1%})\")\n",
    "print(f\"Recompensa media por episodio: {np.mean(total_rewards):.2f}\")\n",
    "print(f\"Banca final promedio: {np.mean(final_bankrolls):.2f}\")\n",
    "\n",
    "if ui:\n",
    "    ui.close()"
   ]
  },
  {
   "cell_type": "code",
   "execution_count": null,
   "metadata": {},
   "outputs": [],
   "source": []
  },
  {
   "cell_type": "code",
   "execution_count": null,
   "metadata": {},
   "outputs": [],
   "source": []
  }
 ],
 "metadata": {
  "kernelspec": {
   "display_name": "blackjack-rl",
   "language": "python",
   "name": "python3"
  },
  "language_info": {
   "codemirror_mode": {
    "name": "ipython",
    "version": 3
   },
   "file_extension": ".py",
   "mimetype": "text/x-python",
   "name": "python",
   "nbconvert_exporter": "python",
   "pygments_lexer": "ipython3",
   "version": "3.9.7"
  }
 },
 "nbformat": 4,
 "nbformat_minor": 2
}
