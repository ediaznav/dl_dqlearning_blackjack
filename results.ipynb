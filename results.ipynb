{
 "cells": [
  {
   "cell_type": "code",
   "execution_count": 74,
   "id": "c0632799",
   "metadata": {},
   "outputs": [],
   "source": [
    "import pandas as pd\n",
    "import numpy as np \n",
    "import matplotlib.pyplot as plt \n",
    "import seaborn as sns \n",
    "\n",
    "plt.style.use(\"ggplot\")"
   ]
  },
  {
   "cell_type": "code",
   "execution_count": 9,
   "id": "2e06c485",
   "metadata": {},
   "outputs": [],
   "source": [
    "DATA_DIRECTORY = \"./data/results/\""
   ]
  },
  {
   "cell_type": "code",
   "execution_count": 29,
   "id": "09d5e4d0",
   "metadata": {},
   "outputs": [],
   "source": [
    "resultados = pd.read_csv(DATA_DIRECTORY + \"results\")\n",
    "eventos = pd.read_csv(DATA_DIRECTORY + \"eventos\")\n",
    "acciones =  pd.read_csv(DATA_DIRECTORY + \"actions\")"
   ]
  },
  {
   "cell_type": "code",
   "execution_count": 40,
   "id": "bb6ccd6d",
   "metadata": {},
   "outputs": [],
   "source": [
    "resultados_duel = pd.read_csv(DATA_DIRECTORY + \"results_duel.csv\")\n",
    "eventos_duel = pd.read_csv(DATA_DIRECTORY + \"eventos_duel.csv\")\n",
    "acciones_duel =  pd.read_csv(DATA_DIRECTORY + \"actions_duel.csv\")"
   ]
  },
  {
   "cell_type": "code",
   "execution_count": 58,
   "id": "bd99de3b",
   "metadata": {},
   "outputs": [
    {
     "name": "stderr",
     "output_type": "stream",
     "text": [
      "/var/folders/nz/20sgdrzs7j19b2hfzhxyfrfw0000gn/T/ipykernel_8118/338693592.py:1: FutureWarning: The provided callable <function mean at 0x11745eaf0> is currently using DataFrameGroupBy.mean. In a future version of pandas, the provided callable will be used directly. To keep current behavior pass the string \"mean\" instead.\n",
      "  acciones_duel.pivot_table(\n"
     ]
    },
    {
     "data": {
      "text/html": [
       "<div>\n",
       "<style scoped>\n",
       "    .dataframe tbody tr th:only-of-type {\n",
       "        vertical-align: middle;\n",
       "    }\n",
       "\n",
       "    .dataframe tbody tr th {\n",
       "        vertical-align: top;\n",
       "    }\n",
       "\n",
       "    .dataframe thead th {\n",
       "        text-align: right;\n",
       "    }\n",
       "</style>\n",
       "<table border=\"1\" class=\"dataframe\">\n",
       "  <thead>\n",
       "    <tr style=\"text-align: right;\">\n",
       "      <th>player_hand</th>\n",
       "      <th>4</th>\n",
       "      <th>5</th>\n",
       "      <th>6</th>\n",
       "      <th>7</th>\n",
       "      <th>8</th>\n",
       "      <th>9</th>\n",
       "      <th>10</th>\n",
       "      <th>11</th>\n",
       "      <th>12</th>\n",
       "      <th>13</th>\n",
       "      <th>14</th>\n",
       "      <th>15</th>\n",
       "      <th>16</th>\n",
       "      <th>17</th>\n",
       "      <th>18</th>\n",
       "      <th>19</th>\n",
       "      <th>20</th>\n",
       "      <th>21</th>\n",
       "    </tr>\n",
       "    <tr>\n",
       "      <th>dealer_hand</th>\n",
       "      <th></th>\n",
       "      <th></th>\n",
       "      <th></th>\n",
       "      <th></th>\n",
       "      <th></th>\n",
       "      <th></th>\n",
       "      <th></th>\n",
       "      <th></th>\n",
       "      <th></th>\n",
       "      <th></th>\n",
       "      <th></th>\n",
       "      <th></th>\n",
       "      <th></th>\n",
       "      <th></th>\n",
       "      <th></th>\n",
       "      <th></th>\n",
       "      <th></th>\n",
       "      <th></th>\n",
       "    </tr>\n",
       "  </thead>\n",
       "  <tbody>\n",
       "    <tr>\n",
       "      <th>1</th>\n",
       "      <td>0.0</td>\n",
       "      <td>0.0</td>\n",
       "      <td>0.0</td>\n",
       "      <td>0.0</td>\n",
       "      <td>0.0</td>\n",
       "      <td>0.0</td>\n",
       "      <td>0.0</td>\n",
       "      <td>0.0</td>\n",
       "      <td>0.000000</td>\n",
       "      <td>2.000000</td>\n",
       "      <td>2.625000</td>\n",
       "      <td>2.000000</td>\n",
       "      <td>2.600000</td>\n",
       "      <td>2.400000</td>\n",
       "      <td>1.0</td>\n",
       "      <td>1.0</td>\n",
       "      <td>1.0</td>\n",
       "      <td>1.0</td>\n",
       "    </tr>\n",
       "    <tr>\n",
       "      <th>2</th>\n",
       "      <td>0.0</td>\n",
       "      <td>0.0</td>\n",
       "      <td>0.0</td>\n",
       "      <td>0.0</td>\n",
       "      <td>0.0</td>\n",
       "      <td>0.0</td>\n",
       "      <td>0.0</td>\n",
       "      <td>0.0</td>\n",
       "      <td>0.000000</td>\n",
       "      <td>0.000000</td>\n",
       "      <td>0.888889</td>\n",
       "      <td>1.000000</td>\n",
       "      <td>0.846154</td>\n",
       "      <td>0.800000</td>\n",
       "      <td>1.0</td>\n",
       "      <td>1.0</td>\n",
       "      <td>1.0</td>\n",
       "      <td>1.0</td>\n",
       "    </tr>\n",
       "    <tr>\n",
       "      <th>3</th>\n",
       "      <td>0.0</td>\n",
       "      <td>0.0</td>\n",
       "      <td>0.0</td>\n",
       "      <td>0.0</td>\n",
       "      <td>0.0</td>\n",
       "      <td>0.0</td>\n",
       "      <td>0.0</td>\n",
       "      <td>0.0</td>\n",
       "      <td>0.000000</td>\n",
       "      <td>0.000000</td>\n",
       "      <td>1.000000</td>\n",
       "      <td>0.714286</td>\n",
       "      <td>1.000000</td>\n",
       "      <td>0.857143</td>\n",
       "      <td>1.0</td>\n",
       "      <td>1.0</td>\n",
       "      <td>1.0</td>\n",
       "      <td>1.0</td>\n",
       "    </tr>\n",
       "    <tr>\n",
       "      <th>4</th>\n",
       "      <td>0.0</td>\n",
       "      <td>0.0</td>\n",
       "      <td>0.0</td>\n",
       "      <td>0.0</td>\n",
       "      <td>0.0</td>\n",
       "      <td>0.0</td>\n",
       "      <td>0.0</td>\n",
       "      <td>0.0</td>\n",
       "      <td>1.000000</td>\n",
       "      <td>0.888889</td>\n",
       "      <td>0.833333</td>\n",
       "      <td>1.000000</td>\n",
       "      <td>0.818182</td>\n",
       "      <td>0.777778</td>\n",
       "      <td>1.0</td>\n",
       "      <td>1.0</td>\n",
       "      <td>1.0</td>\n",
       "      <td>1.0</td>\n",
       "    </tr>\n",
       "    <tr>\n",
       "      <th>5</th>\n",
       "      <td>0.0</td>\n",
       "      <td>0.0</td>\n",
       "      <td>0.0</td>\n",
       "      <td>0.0</td>\n",
       "      <td>0.0</td>\n",
       "      <td>0.0</td>\n",
       "      <td>0.0</td>\n",
       "      <td>0.0</td>\n",
       "      <td>0.888889</td>\n",
       "      <td>1.000000</td>\n",
       "      <td>1.000000</td>\n",
       "      <td>0.750000</td>\n",
       "      <td>0.875000</td>\n",
       "      <td>1.000000</td>\n",
       "      <td>1.0</td>\n",
       "      <td>1.0</td>\n",
       "      <td>1.0</td>\n",
       "      <td>1.0</td>\n",
       "    </tr>\n",
       "    <tr>\n",
       "      <th>6</th>\n",
       "      <td>0.0</td>\n",
       "      <td>0.0</td>\n",
       "      <td>0.0</td>\n",
       "      <td>0.0</td>\n",
       "      <td>0.0</td>\n",
       "      <td>0.0</td>\n",
       "      <td>0.0</td>\n",
       "      <td>0.0</td>\n",
       "      <td>1.000000</td>\n",
       "      <td>1.000000</td>\n",
       "      <td>1.000000</td>\n",
       "      <td>0.833333</td>\n",
       "      <td>1.000000</td>\n",
       "      <td>0.000000</td>\n",
       "      <td>1.0</td>\n",
       "      <td>1.0</td>\n",
       "      <td>1.0</td>\n",
       "      <td>1.0</td>\n",
       "    </tr>\n",
       "    <tr>\n",
       "      <th>7</th>\n",
       "      <td>0.0</td>\n",
       "      <td>0.0</td>\n",
       "      <td>0.0</td>\n",
       "      <td>0.0</td>\n",
       "      <td>0.0</td>\n",
       "      <td>0.0</td>\n",
       "      <td>0.0</td>\n",
       "      <td>0.0</td>\n",
       "      <td>0.000000</td>\n",
       "      <td>0.000000</td>\n",
       "      <td>2.000000</td>\n",
       "      <td>1.600000</td>\n",
       "      <td>2.000000</td>\n",
       "      <td>0.785714</td>\n",
       "      <td>1.0</td>\n",
       "      <td>1.0</td>\n",
       "      <td>1.0</td>\n",
       "      <td>1.0</td>\n",
       "    </tr>\n",
       "    <tr>\n",
       "      <th>8</th>\n",
       "      <td>0.0</td>\n",
       "      <td>0.0</td>\n",
       "      <td>0.0</td>\n",
       "      <td>0.0</td>\n",
       "      <td>0.0</td>\n",
       "      <td>0.0</td>\n",
       "      <td>0.0</td>\n",
       "      <td>0.0</td>\n",
       "      <td>0.000000</td>\n",
       "      <td>2.000000</td>\n",
       "      <td>1.777778</td>\n",
       "      <td>1.714286</td>\n",
       "      <td>0.000000</td>\n",
       "      <td>0.909091</td>\n",
       "      <td>1.0</td>\n",
       "      <td>1.0</td>\n",
       "      <td>1.0</td>\n",
       "      <td>1.0</td>\n",
       "    </tr>\n",
       "    <tr>\n",
       "      <th>9</th>\n",
       "      <td>0.0</td>\n",
       "      <td>0.0</td>\n",
       "      <td>0.0</td>\n",
       "      <td>0.0</td>\n",
       "      <td>0.0</td>\n",
       "      <td>0.0</td>\n",
       "      <td>0.0</td>\n",
       "      <td>0.0</td>\n",
       "      <td>0.000000</td>\n",
       "      <td>1.888889</td>\n",
       "      <td>0.000000</td>\n",
       "      <td>0.000000</td>\n",
       "      <td>2.625000</td>\n",
       "      <td>0.888889</td>\n",
       "      <td>1.0</td>\n",
       "      <td>1.0</td>\n",
       "      <td>1.0</td>\n",
       "      <td>1.0</td>\n",
       "    </tr>\n",
       "    <tr>\n",
       "      <th>10</th>\n",
       "      <td>0.0</td>\n",
       "      <td>0.0</td>\n",
       "      <td>0.0</td>\n",
       "      <td>0.0</td>\n",
       "      <td>0.0</td>\n",
       "      <td>0.0</td>\n",
       "      <td>0.0</td>\n",
       "      <td>0.0</td>\n",
       "      <td>0.000000</td>\n",
       "      <td>0.000000</td>\n",
       "      <td>0.000000</td>\n",
       "      <td>2.795455</td>\n",
       "      <td>2.763158</td>\n",
       "      <td>0.846154</td>\n",
       "      <td>1.0</td>\n",
       "      <td>1.0</td>\n",
       "      <td>1.0</td>\n",
       "      <td>1.0</td>\n",
       "    </tr>\n",
       "  </tbody>\n",
       "</table>\n",
       "</div>"
      ],
      "text/plain": [
       "player_hand   4    5    6    7    8    9    10   11        12        13  \\\n",
       "dealer_hand                                                               \n",
       "1            0.0  0.0  0.0  0.0  0.0  0.0  0.0  0.0  0.000000  2.000000   \n",
       "2            0.0  0.0  0.0  0.0  0.0  0.0  0.0  0.0  0.000000  0.000000   \n",
       "3            0.0  0.0  0.0  0.0  0.0  0.0  0.0  0.0  0.000000  0.000000   \n",
       "4            0.0  0.0  0.0  0.0  0.0  0.0  0.0  0.0  1.000000  0.888889   \n",
       "5            0.0  0.0  0.0  0.0  0.0  0.0  0.0  0.0  0.888889  1.000000   \n",
       "6            0.0  0.0  0.0  0.0  0.0  0.0  0.0  0.0  1.000000  1.000000   \n",
       "7            0.0  0.0  0.0  0.0  0.0  0.0  0.0  0.0  0.000000  0.000000   \n",
       "8            0.0  0.0  0.0  0.0  0.0  0.0  0.0  0.0  0.000000  2.000000   \n",
       "9            0.0  0.0  0.0  0.0  0.0  0.0  0.0  0.0  0.000000  1.888889   \n",
       "10           0.0  0.0  0.0  0.0  0.0  0.0  0.0  0.0  0.000000  0.000000   \n",
       "\n",
       "player_hand        14        15        16        17   18   19   20   21  \n",
       "dealer_hand                                                              \n",
       "1            2.625000  2.000000  2.600000  2.400000  1.0  1.0  1.0  1.0  \n",
       "2            0.888889  1.000000  0.846154  0.800000  1.0  1.0  1.0  1.0  \n",
       "3            1.000000  0.714286  1.000000  0.857143  1.0  1.0  1.0  1.0  \n",
       "4            0.833333  1.000000  0.818182  0.777778  1.0  1.0  1.0  1.0  \n",
       "5            1.000000  0.750000  0.875000  1.000000  1.0  1.0  1.0  1.0  \n",
       "6            1.000000  0.833333  1.000000  0.000000  1.0  1.0  1.0  1.0  \n",
       "7            2.000000  1.600000  2.000000  0.785714  1.0  1.0  1.0  1.0  \n",
       "8            1.777778  1.714286  0.000000  0.909091  1.0  1.0  1.0  1.0  \n",
       "9            0.000000  0.000000  2.625000  0.888889  1.0  1.0  1.0  1.0  \n",
       "10           0.000000  2.795455  2.763158  0.846154  1.0  1.0  1.0  1.0  "
      ]
     },
     "execution_count": 58,
     "metadata": {},
     "output_type": "execute_result"
    }
   ],
   "source": [
    "acciones_duel.pivot_table(\n",
    "    index = \"dealer_hand\", \n",
    "    columns = \"player_hand\", \n",
    "    values = \"action\", \n",
    "    aggfunc = np.mean\n",
    ").fillna(0)"
   ]
  },
  {
   "cell_type": "code",
   "execution_count": 68,
   "id": "cb5b4ecb",
   "metadata": {},
   "outputs": [
    {
     "name": "stderr",
     "output_type": "stream",
     "text": [
      "/var/folders/nz/20sgdrzs7j19b2hfzhxyfrfw0000gn/T/ipykernel_8118/2973086079.py:2: FutureWarning: The provided callable <function median at 0x1175e9940> is currently using DataFrameGroupBy.median. In a future version of pandas, the provided callable will be used directly. To keep current behavior pass the string \"median\" instead.\n",
      "  sns.heatmap(acciones.pivot_table(\n"
     ]
    },
    {
     "data": {
      "text/plain": [
       "Text(50.722222222222214, 0.5, 'Carta del Dealer')"
      ]
     },
     "execution_count": 68,
     "metadata": {},
     "output_type": "execute_result"
    },
    {
     "data": {
      "image/png": "[encoded data removed]",
      "text/plain": [
       "<Figure size 640x480 with 1 Axes>"
      ]
     },
     "metadata": {},
     "output_type": "display_data"
    }
   ],
   "source": [
    "plt.figure()\n",
    "sns.heatmap(acciones.pivot_table(\n",
    "    index = \"dealer_hand\", \n",
    "    columns = \"player_hand\", \n",
    "    values = \"action\", \n",
    "    aggfunc = np.median\n",
    ").fillna(0)#.round()\n",
    ", annot=True, linewidth=.5, cmap=\"crest\", cbar = False)\n",
    "plt.title(\"Selección Mediana del Agente por situación - Vanilla\")\n",
    "plt.xlabel(\"Mano del Jugador\")\n",
    "plt.ylabel(\"Carta del Dealer\")\n"
   ]
  },
  {
   "cell_type": "code",
   "execution_count": 45,
   "id": "66fcd17e",
   "metadata": {},
   "outputs": [],
   "source": [
    "# ¿CVuantas veces pide con menos de 11?\n",
    "\n",
    "pivot_acciones = acciones_duel.pivot_table(index=\"player_hand\", columns=\"action\", \n",
    "                     aggfunc = \"count\").fillna(0)\n"
   ]
  },
  {
   "cell_type": "code",
   "execution_count": null,
   "id": "88c3ef2e",
   "metadata": {},
   "outputs": [
    {
     "data": {
      "text/plain": [
       "[<matplotlib.lines.Line2D at 0x10b429100>]"
      ]
     },
     "execution_count": 78,
     "metadata": {},
     "output_type": "execute_result"
    },
    {
     "data": {
      "image/png": "[encoded data removed]",
      "text/plain": [
       "<Figure size 640x480 with 1 Axes>"
      ]
     },
     "metadata": {},
     "output_type": "display_data"
    }
   ],
   "source": [
    "plt.plot(eventos_duel.bankroll,color = \"steelblue\", alpha  = 0.7)\n",
    "plt.plot(eventos.bankroll, color = \"black\", alpha  = 0.7)\n",
    "plt.hlines()"
   ]
  },
  {
   "cell_type": "code",
   "execution_count": 79,
   "id": "bdc9899f",
   "metadata": {},
   "outputs": [
    {
     "data": {
      "text/plain": [
       "0       95.0\n",
       "1       90.0\n",
       "2       90.0\n",
       "3       95.0\n",
       "4      100.0\n",
       "       ...  \n",
       "995    112.5\n",
       "996    107.5\n",
       "997    112.5\n",
       "998    117.5\n",
       "999    117.5\n",
       "Name: bankroll, Length: 1000, dtype: float64"
      ]
     },
     "execution_count": 79,
     "metadata": {},
     "output_type": "execute_result"
    }
   ],
   "source": [
    "eventos_duel.bankroll"
   ]
  },
  {
   "cell_type": "code",
   "execution_count": 41,
   "id": "e316f30e",
   "metadata": {},
   "outputs": [
    {
     "data": {
      "text/plain": [
       "win          0.429\n",
       "loss         0.350\n",
       "draw         0.096\n",
       "surrender    0.125\n",
       "Name: 0, dtype: float64"
      ]
     },
     "execution_count": 41,
     "metadata": {},
     "output_type": "execute_result"
    }
   ],
   "source": [
    "resultados_duel.loc[0,:]/1000"
   ]
  },
  {
   "cell_type": "code",
   "execution_count": null,
   "id": "1a76c370",
   "metadata": {},
   "outputs": [],
   "source": []
  }
 ],
 "metadata": {
  "kernelspec": {
   "display_name": "blackjack-rl",
   "language": "python",
   "name": "python3"
  },
  "language_info": {
   "codemirror_mode": {
    "name": "ipython",
    "version": 3
   },
   "file_extension": ".py",
   "mimetype": "text/x-python",
   "name": "python",
   "nbconvert_exporter": "python",
   "pygments_lexer": "ipython3",
   "version": "3.9.7"
  }
 },
 "nbformat": 4,
 "nbformat_minor": 5
}
